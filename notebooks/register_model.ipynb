{
 "cells": [
  {
   "cell_type": "code",
   "execution_count": 2,
   "id": "cf8fbe2f-0150-4da5-a832-fd637196b64b",
   "metadata": {},
   "outputs": [],
   "source": [
    "import mlflow\n",
    "from mlflow.tracking import MlflowClient\n",
    "from mlflow.entities import ViewType\n"
   ]
  },
  {
   "cell_type": "code",
   "execution_count": 3,
   "id": "b485e871-2769-4bec-823c-2335a07cf9c8",
   "metadata": {},
   "outputs": [
    {
     "data": {
      "text/plain": [
       "<Experiment: artifact_location='s3://mlflow-artifacts-823124982163/7', creation_time=1721313695589, experiment_id='7', last_update_time=1721313695589, lifecycle_stage='active', name='restaurant_customer-satisfaction', tags={}>"
      ]
     },
     "execution_count": 3,
     "metadata": {},
     "output_type": "execute_result"
    }
   ],
   "source": [
    "mlflow.set_tracking_uri(\"[your mlflow tracking uri]\")\n",
    "mlflow.set_experiment('restaurant_customer-satisfaction')"
   ]
  },
  {
   "cell_type": "code",
   "execution_count": 4,
   "id": "8b9767bf-f3fd-47ee-b5f4-f7abf54360c5",
   "metadata": {},
   "outputs": [],
   "source": [
    "def run_register_model():\n",
    "\n",
    "    client = MlflowClient()\n",
    "\n",
    "    experiment = client.get_experiment_by_name('restaurant_customer-satisfaction')\n",
    "    runs = client.search_runs(\n",
    "        experiment_ids=experiment.experiment_id,\n",
    "        run_view_type=ViewType.ACTIVE_ONLY,\n",
    "        order_by=[\"metrics.accurancy desc\"]\n",
    "    )\n",
    "\n",
    "    # Register the best model\n",
    "    run_id = runs[0].info.run_id\n",
    "    print(run_id)\n",
    "    model_uri = f\"runs:/{run_id}/model\"\n",
    "    mlflow.register_model(model_uri=model_uri, name=\"customer-satisfaction-classifier\")\n"
   ]
  },
  {
   "cell_type": "code",
   "execution_count": 5,
   "id": "1d3d6d2a-0d27-4780-97e4-5261bba6a2fb",
   "metadata": {},
   "outputs": [
    {
     "name": "stderr",
     "output_type": "stream",
     "text": [
      "Registered model 'customer-satisfaction-classifier' already exists. Creating a new version of this model...\n",
      "2024/07/18 12:08:59 INFO mlflow.store.model_registry.abstract_store: Waiting up to 300 seconds for model version to finish creation. Model name: customer-satisfaction-classifier, version 5\n"
     ]
    },
    {
     "name": "stdout",
     "output_type": "stream",
     "text": [
      "9561bb473140477b826cff3d1b825c0c\n"
     ]
    },
    {
     "name": "stderr",
     "output_type": "stream",
     "text": [
      "Created version '5' of model 'customer-satisfaction-classifier'.\n"
     ]
    }
   ],
   "source": [
    "run_register_model()"
   ]
  },
  {
   "cell_type": "code",
   "execution_count": null,
   "id": "e250f951-2e28-43c0-9bb5-97b5582d60ca",
   "metadata": {},
   "outputs": [],
   "source": []
  }
 ],
 "metadata": {
  "kernelspec": {
   "display_name": "Python 3 (ipykernel)",
   "language": "python",
   "name": "python3"
  },
  "language_info": {
   "codemirror_mode": {
    "name": "ipython",
    "version": 3
   },
   "file_extension": ".py",
   "mimetype": "text/x-python",
   "name": "python",
   "nbconvert_exporter": "python",
   "pygments_lexer": "ipython3",
   "version": "3.11.3"
  }
 },
 "nbformat": 4,
 "nbformat_minor": 5
}
